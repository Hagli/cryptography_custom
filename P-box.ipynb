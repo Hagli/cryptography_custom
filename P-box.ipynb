{
 "cells": [
  {
   "cell_type": "code",
   "execution_count": 3,
   "id": "5cd61ec3-9325-45ff-ae6b-0cce3e00a329",
   "metadata": {},
   "outputs": [],
   "source": [
    "import random"
   ]
  },
  {
   "cell_type": "code",
   "execution_count": 4,
   "id": "e1101992-1b64-4d24-8900-ab07ea6df0c3",
   "metadata": {},
   "outputs": [],
   "source": [
    "def create_p_box():\n",
    "    #kek = [0, 1, 2, 3, 4, 5, 6, 7, 8, 9, 10 ,11, 12, 13, 14, 15]\n",
    "    a = []\n",
    "    for i in range(64):\n",
    "        a.append(i)\n",
    "    random.seed(1)\n",
    "    random.shuffle(a)\n",
    "    return(a)"
   ]
  },
  {
   "cell_type": "code",
   "execution_count": 5,
   "id": "74084e37-ed96-4f2f-8bc3-27c5b8037598",
   "metadata": {},
   "outputs": [
    {
     "data": {
      "text/plain": [
       "[22,\n",
       " 12,\n",
       " 52,\n",
       " 3,\n",
       " 19,\n",
       " 5,\n",
       " 60,\n",
       " 58,\n",
       " 2,\n",
       " 33,\n",
       " 10,\n",
       " 8,\n",
       " 29,\n",
       " 26,\n",
       " 25,\n",
       " 9,\n",
       " 44,\n",
       " 18,\n",
       " 62,\n",
       " 11,\n",
       " 47,\n",
       " 40,\n",
       " 15,\n",
       " 39,\n",
       " 56,\n",
       " 57,\n",
       " 32,\n",
       " 23,\n",
       " 49,\n",
       " 43,\n",
       " 21,\n",
       " 45,\n",
       " 42,\n",
       " 34,\n",
       " 35,\n",
       " 46,\n",
       " 20,\n",
       " 61,\n",
       " 37,\n",
       " 14,\n",
       " 63,\n",
       " 53,\n",
       " 0,\n",
       " 38,\n",
       " 27,\n",
       " 50,\n",
       " 1,\n",
       " 55,\n",
       " 6,\n",
       " 13,\n",
       " 24,\n",
       " 41,\n",
       " 30,\n",
       " 28,\n",
       " 59,\n",
       " 31,\n",
       " 7,\n",
       " 16,\n",
       " 4,\n",
       " 48,\n",
       " 51,\n",
       " 54,\n",
       " 36,\n",
       " 17]"
      ]
     },
     "execution_count": 5,
     "metadata": {},
     "output_type": "execute_result"
    }
   ],
   "source": [
    "create_p_box()"
   ]
  },
  {
   "cell_type": "code",
   "execution_count": null,
   "id": "dccc329b-ebe0-48b9-9644-f69eb8f4cb11",
   "metadata": {},
   "outputs": [],
   "source": []
  },
  {
   "cell_type": "code",
   "execution_count": null,
   "id": "1d6421c6-98ec-489c-9095-3edd630057a3",
   "metadata": {},
   "outputs": [],
   "source": []
  }
 ],
 "metadata": {
  "kernelspec": {
   "display_name": "Python 3 (ipykernel)",
   "language": "python",
   "name": "python3"
  },
  "language_info": {
   "codemirror_mode": {
    "name": "ipython",
    "version": 3
   },
   "file_extension": ".py",
   "mimetype": "text/x-python",
   "name": "python",
   "nbconvert_exporter": "python",
   "pygments_lexer": "ipython3",
   "version": "3.10.9"
  }
 },
 "nbformat": 4,
 "nbformat_minor": 5
}
