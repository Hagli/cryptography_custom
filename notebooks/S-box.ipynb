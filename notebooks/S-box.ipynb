{
 "cells": [
  {
   "cell_type": "code",
   "execution_count": 4,
   "id": "e5bf1849-b24b-4f99-b884-8c54c0a1863b",
   "metadata": {},
   "outputs": [],
   "source": [
    "import numpy as np"
   ]
  },
  {
   "cell_type": "code",
   "execution_count": 11,
   "id": "7f432795-dc9f-4ae2-8812-922c55c5e043",
   "metadata": {},
   "outputs": [],
   "source": [
    "def create_s_box() :\n",
    "    # transform integer to its multiplicative inverse in the field\n",
    "    transform_map = [0, # 0 is mapped to itself, it should not have any multiplicative inverse\n",
    "                     1, 9, 14, 13, 11, 7, 6, 15, 2, 12, 5, 10, 4, 3, 8]\n",
    "    for i in range(len(transform_map)):\n",
    "        x = transform_map[i]\n",
    "        x = x^(x << 1)^(x << 2)^(x << 3)^(x << 4)\n",
    "        x = x & 15\n",
    "        transform_map[i] = x\n",
    "    return(transform_map)"
   ]
  },
  {
   "cell_type": "code",
   "execution_count": 12,
   "id": "cda4f93d-a9b3-4168-9f67-ce1da5d07467",
   "metadata": {},
   "outputs": [
    {
     "data": {
      "text/plain": [
       "[0, 15, 7, 10, 11, 9, 13, 2, 5, 14, 4, 3, 6, 12, 1, 8]"
      ]
     },
     "execution_count": 12,
     "metadata": {},
     "output_type": "execute_result"
    }
   ],
   "source": [
    "create_s_box()"
   ]
  },
  {
   "cell_type": "code",
   "execution_count": 7,
   "id": "b040eecc-e1cd-4fd5-b053-ba6861d49989",
   "metadata": {},
   "outputs": [],
   "source": [
    "def transform(i, s_box):\n",
    "    return (s_box[i])"
   ]
  },
  {
   "cell_type": "code",
   "execution_count": 8,
   "id": "39644729-3e54-4692-918c-bbf80f04bb7a",
   "metadata": {},
   "outputs": [
    {
     "data": {
      "text/plain": [
       "12"
      ]
     },
     "execution_count": 8,
     "metadata": {},
     "output_type": "execute_result"
    }
   ],
   "source": [
    "transform(1,create_s_box())"
   ]
  },
  {
   "cell_type": "code",
   "execution_count": null,
   "id": "5d94e821-6e60-4965-9c90-6c93ccecc596",
   "metadata": {},
   "outputs": [],
   "source": []
  }
 ],
 "metadata": {
  "kernelspec": {
   "display_name": "Python 3 (ipykernel)",
   "language": "python",
   "name": "python3"
  },
  "language_info": {
   "codemirror_mode": {
    "name": "ipython",
    "version": 3
   },
   "file_extension": ".py",
   "mimetype": "text/x-python",
   "name": "python",
   "nbconvert_exporter": "python",
   "pygments_lexer": "ipython3",
   "version": "3.10.9"
  }
 },
 "nbformat": 4,
 "nbformat_minor": 5
}
