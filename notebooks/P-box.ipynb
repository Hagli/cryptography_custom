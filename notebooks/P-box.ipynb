{
 "cells": [
  {
   "cell_type": "code",
   "execution_count": 2,
   "id": "5cd61ec3-9325-45ff-ae6b-0cce3e00a329",
   "metadata": {},
   "outputs": [],
   "source": [
    "import random"
   ]
  },
  {
   "cell_type": "code",
   "execution_count": 3,
   "id": "e1101992-1b64-4d24-8900-ab07ea6df0c3",
   "metadata": {},
   "outputs": [],
   "source": [
    "def create_p_box():\n",
    "    #kek = [0, 1, 2, 3, 4, 5, 6, 7, 8, 9, 10 ,11, 12, 13, 14, 15]\n",
    "    a = []\n",
    "    for i in range(64):\n",
    "        a.append(i)\n",
    "    random.seed(1)\n",
    "    random.shuffle(a)\n",
    "    return(a)"
   ]
  },
  {
   "cell_type": "code",
   "execution_count": 4,
   "id": "74084e37-ed96-4f2f-8bc3-27c5b8037598",
   "metadata": {},
   "outputs": [],
   "source": [
    "a = create_p_box()"
   ]
  },
  {
   "cell_type": "code",
   "execution_count": 5,
   "id": "dccc329b-ebe0-48b9-9644-f69eb8f4cb11",
   "metadata": {},
   "outputs": [
    {
     "name": "stdout",
     "output_type": "stream",
     "text": [
      "[22, 12, 52, 3, 19, 5, 60, 58, 2, 33, 10, 8, 29, 26, 25, 9, 44, 18, 62, 11, 47, 40, 15, 39, 56, 57, 32, 23, 49, 43, 21, 45, 42, 34, 35, 46, 20, 61, 37, 14, 63, 53, 0, 38, 27, 50, 1, 55, 6, 13, 24, 41, 30, 28, 59, 31, 7, 16, 4, 48, 51, 54, 36, 17]\n"
     ]
    }
   ],
   "source": [
    "print(a)"
   ]
  },
  {
   "cell_type": "code",
   "execution_count": null,
   "id": "1d6421c6-98ec-489c-9095-3edd630057a3",
   "metadata": {},
   "outputs": [],
   "source": []
  }
 ],
 "metadata": {
  "kernelspec": {
   "display_name": "Python 3 (ipykernel)",
   "language": "python",
   "name": "python3"
  },
  "language_info": {
   "codemirror_mode": {
    "name": "ipython",
    "version": 3
   },
   "file_extension": ".py",
   "mimetype": "text/x-python",
   "name": "python",
   "nbconvert_exporter": "python",
   "pygments_lexer": "ipython3",
   "version": "3.10.9"
  }
 },
 "nbformat": 4,
 "nbformat_minor": 5
}
