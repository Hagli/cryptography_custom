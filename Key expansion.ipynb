{
 "cells": [
  {
   "cell_type": "code",
   "execution_count": 3,
   "id": "27ec18f8-1506-4728-9fdb-87ccdebc26f5",
   "metadata": {},
   "outputs": [],
   "source": [
    "import numpy as np"
   ]
  },
  {
   "cell_type": "code",
   "execution_count": 43,
   "id": "3b712d8c-a022-425c-b64c-5e9c98c7bd09",
   "metadata": {},
   "outputs": [],
   "source": [
    "s_box = [3, 12, 4, 9, 8, 10, 14, 1, 6, 15, 7, 0, 5, 15, 2, 11]"
   ]
  },
  {
   "cell_type": "code",
   "execution_count": 68,
   "id": "1dc6b95a-1ebc-4aa0-b7ff-cad957428c12",
   "metadata": {},
   "outputs": [],
   "source": [
    "def expand_key(key, round_counter, s_box):\n",
    "    key_bit = format(key, 'b')\n",
    "    key_bit = (128-len(key_bit))*'0'+key_bit\n",
    "    half = len(key_bit)//2\n",
    "    key_a = key_bit[:half]\n",
    "    key_b = key_bit[half:]\n",
    "    new_key = key_b+key_a\n",
    "    sub_0 = format(s_box[int(new_key[:4],2)],'b')\n",
    "    sub_0 = (4-len(sub_0))*'0'+sub_0\n",
    "    sub_1 = format(s_box[int(new_key[4:8],2)], 'b')\n",
    "    sub_1 = (4-len(sub_1))*'0'+sub_1\n",
    "    sub_3 = format(int(new_key[62:66],2)^round_counter, 'b')\n",
    "    sub_3 = (4-len(sub_3))*'0'+sub_3\n",
    "    new_key = sub_0+sub_1+new_key[8:62]+sub_3+new_key[66:]\n",
    "    return (key_a, key_b, len(new_key), int(new_key,2), sub_1, sub_3)"
   ]
  },
  {
   "cell_type": "code",
   "execution_count": 69,
   "id": "eaf11a2d-0b3d-4d66-95d4-e590765de8bb",
   "metadata": {},
   "outputs": [
    {
     "data": {
      "text/plain": [
       "('0000000000000000000000000000000000000000000000000000000000000000',\n",
       " '0000000000000000000000000000000000000000000000000000000000010000',\n",
       " 128,\n",
       " 67790627785030709817853751272077787136,\n",
       " '0011',\n",
       " '0001')"
      ]
     },
     "execution_count": 69,
     "metadata": {},
     "output_type": "execute_result"
    }
   ],
   "source": [
    "expand_key(16,1,s_box)"
   ]
  },
  {
   "cell_type": "code",
   "execution_count": null,
   "id": "bdfbc68b-901c-498b-acb2-d0dbc7f3f823",
   "metadata": {},
   "outputs": [],
   "source": []
  },
  {
   "cell_type": "code",
   "execution_count": null,
   "id": "922119fe-9c41-4895-8975-854cc2fc47c8",
   "metadata": {},
   "outputs": [],
   "source": []
  }
 ],
 "metadata": {
  "kernelspec": {
   "display_name": "Python 3 (ipykernel)",
   "language": "python",
   "name": "python3"
  },
  "language_info": {
   "codemirror_mode": {
    "name": "ipython",
    "version": 3
   },
   "file_extension": ".py",
   "mimetype": "text/x-python",
   "name": "python",
   "nbconvert_exporter": "python",
   "pygments_lexer": "ipython3",
   "version": "3.10.9"
  }
 },
 "nbformat": 4,
 "nbformat_minor": 5
}
